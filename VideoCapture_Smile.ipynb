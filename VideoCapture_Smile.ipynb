{
 "cells": [
  {
   "cell_type": "markdown",
   "metadata": {},
   "source": [
    "# Library"
   ]
  },
  {
   "cell_type": "code",
   "execution_count": 1,
   "metadata": {},
   "outputs": [],
   "source": [
    "import cv2\n",
    "import numpy as np\n",
    "from math import sqrt"
   ]
  },
  {
   "cell_type": "markdown",
   "metadata": {},
   "source": [
    "# Feature Files"
   ]
  },
  {
   "cell_type": "code",
   "execution_count": 2,
   "metadata": {},
   "outputs": [],
   "source": [
    "arqCasc1 = 'haarcascade_frontalface_default.xml'\n",
    "arqCasc2 = 'haarcascade_smile.xml'"
   ]
  },
  {
   "cell_type": "code",
   "execution_count": 3,
   "metadata": {},
   "outputs": [],
   "source": [
    "faceCascade1 = cv2.CascadeClassifier(arqCasc1)\n",
    "faceCascade2 = cv2.CascadeClassifier(arqCasc2)"
   ]
  },
  {
   "cell_type": "markdown",
   "metadata": {},
   "source": [
    "# Face and Smile Detection"
   ]
  },
  {
   "cell_type": "code",
   "execution_count": 27,
   "metadata": {},
   "outputs": [],
   "source": [
    "import numpy as np\n",
    "import cv2\n",
    "\n",
    "cap = cv2.VideoCapture(0)\n",
    "\n",
    "frame_width = int(cap.get(3))\n",
    "frame_height = int(cap.get(4))\n",
    "\n",
    "out = cv2.VideoWriter('output.avi',cv2.VideoWriter_fourcc('M','J','P','G'), 10, (frame_width,frame_height))\n",
    "\n",
    "while(cap.isOpened()):\n",
    "    ret, image = cap.read()\n",
    "    if ret==True:\n",
    "\n",
    "        \n",
    "        face = faceCascade1.detectMultiScale(\n",
    "            image,\n",
    "            minNeighbors=20,\n",
    "            minSize=(30, 30),\n",
    "            maxSize=(300,300)\n",
    "        )\n",
    " \n",
    "        smile = faceCascade2.detectMultiScale(\n",
    "            image,\n",
    "            minNeighbors=10,\n",
    "            minSize=(70, 70),\n",
    "            maxSize=(90,90)\n",
    "        )\n",
    "    \n",
    "        for (x, y, w, h) in face:\n",
    "            cv2.rectangle(image, (x, y), (x+w, y+h), (0, 0, 255), 4)\n",
    "            cv2.putText(image, \"face detected\",(x,y-10),cv2.FONT_HERSHEY_SIMPLEX,0.50,(0, 0, 255),0)\n",
    "            cv2.line(image, (x,y+h//2), (0,y+h//2), (0,0,255), 2)\n",
    "            cv2.line(image, (x+w,y+h//2), (image.shape[1],y+h//2), (0,0,255), 2)\n",
    "\n",
    "            cv2.line(image, (x+w//2,y), (x+w//2,0), (0,0,255), 2)\n",
    "            cv2.line(image, (x+w//2,y+h), (x+w//2,image.shape[0]), (0,0,255), 2)\n",
    "\n",
    "            for (x1, y1, w1, h1) in smile:\n",
    "                try:\n",
    "                    dist = sqrt(pow((x1+w1//2)-(x+w//2),2)+pow((y1+h1//2)-(y+h//2),2))\n",
    "                    if (dist) < 90:\n",
    "                        cv2.rectangle(image, (x1, y1), (x1+w1, y1+h1), (255, 0, 0), 2)\n",
    "                        cv2.putText(image, \"smile detected\" ,(x1,y1-10),cv2.FONT_HERSHEY_SIMPLEX,0.50,(255, 0, 0),0)\n",
    "                except:\n",
    "                      print(\"can't discover smile\")\n",
    "\n",
    "        \n",
    "        out.write(image)\n",
    "\n",
    "        cv2.imshow('frame',image)\n",
    "        if cv2.waitKey(1) & 0xFF == ord('q'):\n",
    "            break\n",
    "    else:\n",
    "        break\n",
    "\n",
    "cap.release()\n",
    "out.release()\n",
    "cv2.destroyAllWindows()"
   ]
  }
 ],
 "metadata": {
  "kernelspec": {
   "display_name": "Python 3",
   "language": "python",
   "name": "python3"
  },
  "language_info": {
   "codemirror_mode": {
    "name": "ipython",
    "version": 3
   },
   "file_extension": ".py",
   "mimetype": "text/x-python",
   "name": "python",
   "nbconvert_exporter": "python",
   "pygments_lexer": "ipython3",
   "version": "3.7.4"
  }
 },
 "nbformat": 4,
 "nbformat_minor": 4
}
