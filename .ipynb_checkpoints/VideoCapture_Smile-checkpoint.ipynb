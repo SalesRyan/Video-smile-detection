{
 "cells": [
  {
   "cell_type": "code",
   "execution_count": 2,
   "metadata": {},
   "outputs": [],
   "source": [
    "import cv2\n",
    "import numpy as np"
   ]
  },
  {
   "cell_type": "code",
   "execution_count": 3,
   "metadata": {},
   "outputs": [],
   "source": [
    "arqCasc1 = 'haarcascade_frontalface_default.xml'\n",
    "arqCasc2 = 'haarcascade_smile.xml'"
   ]
  },
  {
   "cell_type": "code",
   "execution_count": 4,
   "metadata": {},
   "outputs": [],
   "source": [
    "faceCascade1 = cv2.CascadeClassifier(arqCasc1)\n",
    "faceCascade2 = cv2.CascadeClassifier(arqCasc2)"
   ]
  },
  {
   "cell_type": "code",
   "execution_count": 20,
   "metadata": {},
   "outputs": [],
   "source": [
    "webcam = cv2.VideoCapture(0)\n",
    " \n",
    "while True:\n",
    "    s, image = webcam.read() \n",
    "    image = cv2.flip(image,180)\n",
    "    \n",
    "    face = faceCascade1.detectMultiScale(\n",
    "        image,\n",
    "        minNeighbors=20,\n",
    "        minSize=(30, 30),\n",
    "        maxSize=(300,300)\n",
    "    )\n",
    " \n",
    "    smile = faceCascade2.detectMultiScale(\n",
    "        image,\n",
    "        minNeighbors=10,\n",
    "        minSize=(70, 70),\n",
    "        maxSize=(90,90)\n",
    "    )\n",
    "    \n",
    "    for (x, y, w, h) in face:\n",
    "        cv2.rectangle(image, (x, y), (x+w, y+h), (0, 255, 0), 4)\n",
    "        cv2.putText(image, \"face detected {}\".format(face),(x,y),cv2.FONT_HERSHEY_SIMPLEX,0.50,(0, 255, 0),0)\n",
    "        \n",
    "        for (x1, y1, w1, h1) in smile:\n",
    "            #if x1 > x and y1 > y and w1 < w and h1 < h:\n",
    "            cv2.rectangle(image, (x1, y1), (x1+w1, y1+h1), (255, 0, 0), 2)\n",
    "            cv2.putText(image, \"smile detected {}\".format(smile) ,(x1,y1),cv2.FONT_HERSHEY_SIMPLEX,0.50,(255, 0, 0),0)\n",
    "\n",
    "        \n",
    "        \n",
    "    cv2.imshow('Video', image)\n",
    " \n",
    "    if cv2.waitKey(1) & 0xFF == ord('q'):\n",
    "        break\n",
    " \n",
    "webcam.release()\n",
    "cv2.destroyAllWindows()"
   ]
  }
 ],
 "metadata": {
  "kernelspec": {
   "display_name": "Python 3",
   "language": "python",
   "name": "python3"
  },
  "language_info": {
   "codemirror_mode": {
    "name": "ipython",
    "version": 3
   },
   "file_extension": ".py",
   "mimetype": "text/x-python",
   "name": "python",
   "nbconvert_exporter": "python",
   "pygments_lexer": "ipython3",
   "version": "3.7.4"
  }
 },
 "nbformat": 4,
 "nbformat_minor": 4
}
